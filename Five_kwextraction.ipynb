{
  "nbformat": 4,
  "nbformat_minor": 0,
  "metadata": {
    "colab": {
      "name": "Five_kwextraction.ipynb",
      "provenance": [],
      "toc_visible": true,
      "include_colab_link": true
    },
    "kernelspec": {
      "name": "python3",
      "display_name": "Python 3"
    },
    "language_info": {
      "name": "python"
    }
  },
  "cells": [
    {
      "cell_type": "markdown",
      "metadata": {
        "id": "view-in-github",
        "colab_type": "text"
      },
      "source": [
        "<a href=\"https://colab.research.google.com/github/jamesfishwick/keyword_extraction/blob/main/Five_kwextraction.ipynb\" target=\"_parent\"><img src=\"https://colab.research.google.com/assets/colab-badge.svg\" alt=\"Open In Colab\"/></a>"
      ]
    },
    {
      "cell_type": "code",
      "source": [
        "title = \"Senior Engineering Manager\"\n",
        "text = \"\"\"About the job\n",
        "About GitHub\n",
        "\n",
        "As the global home for all developers, GitHub is the complete AI-powered developer platform to build, scale, and deliver secure software. Over 100 million people, including developers from 90 of the Fortune 100 companies, use GitHub to build amazing things together across 330+ million repositories. With all the collaborative features of GitHub, it has never been easier for individuals and teams to write faster, better code.\n",
        "\n",
        "Locations\n",
        "\n",
        "In this role you can work from Remote, United States\n",
        "\n",
        "Overview\n",
        "\n",
        "GitHub is changing the way the world builds software, and we want you to help build GitHub. We're looking for an experienced software engineering manager to join a passionate, collaborative, distributed group of engineers on our team.\n",
        "\n",
        "The GitHub Mobile team is changing the way that developers across the world collaborate on GitHub through native Android and iOS apps. Launched in March 2020, GitHub Mobile is one of our fastest growing products. The mobile team is part of the Client Apps organization, working alongside the GitHub Desktop and GitHub CLI teams.\n",
        "\n",
        "This role will oversee one of our GitHub Mobile squads with Android, iOS, and server engineers located across the United States. You will partner closely with our other GitHub Mobile squad located primarily in Berlin, Germany.\n",
        "\n",
        "Stack: Our apps are built natively with Kotlin for Android and Swift for iOS. Our apps communicate with GitHub via GraphQL and REST APIs.\n",
        "\n",
        "A day in the life of a Senior Engineering Manager:\n",
        "\n",
        "Our team is distributed worldwide which means we work asynchronously most of the time. Your typical week would include:\n",
        "\n",
        "Work with design, data, and product management to understand the problems we want to solve, then working with engineers to solve them.\n",
        "Solving engineering and product problems with engineering collaborators via GitHub, Slack, and Zoom\n",
        "Planning with partner teams and stakeholders\n",
        "Create and foster a high-performance culture amongst your team\n",
        "Conducting 1:1s with direct reports to provide regular feedback and ensure career growth and progression\n",
        "Working with your manager in your 1:1 meetings to grow yourself and career\n",
        "Talking with users to get feedback and data about the apps\n",
        "\n",
        "Responsibilities\n",
        "\n",
        "Responsibilities:\n",
        "\n",
        "Cultivate an environment where team members are empowered and demonstrate a strong sense of ownership\n",
        "Meet with team members 1:1 on a regular basis\n",
        "Help the team ships products, features, and bug-fixes regularly\n",
        "Ensure that individuals on the team are learning, growing, and advancing in their careers\n",
        "Effectively communicate directions and decisions with the team and company\n",
        "Build alignment with engineering, design, and product leadership\n",
        "Guide the team toward building high quality software across multiple platforms\n",
        "\n",
        "Qualifications\n",
        "\n",
        "Required Qualifications:\n",
        "\n",
        "6+ years of experience designing, developing, and shipping high-quality software at scale\n",
        "2+ years of experience in people management or relevant experience in leading technical teams\n",
        "Experience developing a strategy and roadmap for your teams\n",
        "\n",
        "Preferred Qualifications:\n",
        "\n",
        "There are only a handful of folks who meet all qualifications. Is this you? Excellent, please apply. But we care most about managers that have a track record of caring deeply about their teams, management as a craft, and shipping software that helps people with their work. Either way, we want to hear from you.\n",
        "\n",
        "Experience with Android and/or iOS\n",
        "Experience with Ruby on Rails\n",
        "Knowledge of testing, profiling, and debugging practices\n",
        "Experience working asynchronously on a remote, distributed team\n",
        "Passionate about fostering good engineering practices and processes\n",
        "Experience communicating with high-level stakeholders and executing large initiatives in an iterative fashion\"\"\"\n",
        "full_text = title +\", \"+ text\n",
        "print(\"The whole text to be used\\n\",full_text)"
      ],
      "metadata": {
        "colab": {
          "base_uri": "https://localhost:8080/"
        },
        "id": "W8T09_fszzjf",
        "outputId": "309f041c-b01c-414a-c126-6d4804986a64"
      },
      "execution_count": 10,
      "outputs": [
        {
          "output_type": "stream",
          "name": "stdout",
          "text": [
            "The whole text to be used\n",
            " Senior Engineering Manager, About the job\n",
            "About GitHub\n",
            "\n",
            "As the global home for all developers, GitHub is the complete AI-powered developer platform to build, scale, and deliver secure software. Over 100 million people, including developers from 90 of the Fortune 100 companies, use GitHub to build amazing things together across 330+ million repositories. With all the collaborative features of GitHub, it has never been easier for individuals and teams to write faster, better code.\n",
            "\n",
            "Locations\n",
            "\n",
            "In this role you can work from Remote, United States\n",
            "\n",
            "Overview\n",
            "\n",
            "GitHub is changing the way the world builds software, and we want you to help build GitHub. We're looking for an experienced software engineering manager to join a passionate, collaborative, distributed group of engineers on our team.\n",
            "\n",
            "The GitHub Mobile team is changing the way that developers across the world collaborate on GitHub through native Android and iOS apps. Launched in March 2020, GitHub Mobile is one of our fastest growing products. The mobile team is part of the Client Apps organization, working alongside the GitHub Desktop and GitHub CLI teams.\n",
            "\n",
            "This role will oversee one of our GitHub Mobile squads with Android, iOS, and server engineers located across the United States. You will partner closely with our other GitHub Mobile squad located primarily in Berlin, Germany.\n",
            "\n",
            "Stack: Our apps are built natively with Kotlin for Android and Swift for iOS. Our apps communicate with GitHub via GraphQL and REST APIs.\n",
            "\n",
            "A day in the life of a Senior Engineering Manager:\n",
            "\n",
            "Our team is distributed worldwide which means we work asynchronously most of the time. Your typical week would include:\n",
            "\n",
            "Work with design, data, and product management to understand the problems we want to solve, then working with engineers to solve them.\n",
            "Solving engineering and product problems with engineering collaborators via GitHub, Slack, and Zoom\n",
            "Planning with partner teams and stakeholders\n",
            "Create and foster a high-performance culture amongst your team\n",
            "Conducting 1:1s with direct reports to provide regular feedback and ensure career growth and progression\n",
            "Working with your manager in your 1:1 meetings to grow yourself and career\n",
            "Talking with users to get feedback and data about the apps\n",
            "\n",
            "Responsibilities\n",
            "\n",
            "Responsibilities:\n",
            "\n",
            "Cultivate an environment where team members are empowered and demonstrate a strong sense of ownership\n",
            "Meet with team members 1:1 on a regular basis\n",
            "Help the team ships products, features, and bug-fixes regularly\n",
            "Ensure that individuals on the team are learning, growing, and advancing in their careers\n",
            "Effectively communicate directions and decisions with the team and company\n",
            "Build alignment with engineering, design, and product leadership\n",
            "Guide the team toward building high quality software across multiple platforms\n",
            "\n",
            "Qualifications\n",
            "\n",
            "Required Qualifications:\n",
            "\n",
            "6+ years of experience designing, developing, and shipping high-quality software at scale\n",
            "2+ years of experience in people management or relevant experience in leading technical teams\n",
            "Experience developing a strategy and roadmap for your teams\n",
            "\n",
            "Preferred Qualifications:\n",
            "\n",
            "There are only a handful of folks who meet all qualifications. Is this you? Excellent, please apply. But we care most about managers that have a track record of caring deeply about their teams, management as a craft, and shipping software that helps people with their work. Either way, we want to hear from you.\n",
            "\n",
            "Experience with Android and/or iOS\n",
            "Experience with Ruby on Rails\n",
            "Knowledge of testing, profiling, and debugging practices\n",
            "Experience working asynchronously on a remote, distributed team \n",
            "Passionate about fostering good engineering practices and processes\n",
            "Experience communicating with high-level stakeholders and executing large initiatives in an iterative fashion\n"
          ]
        }
      ]
    },
    {
      "cell_type": "markdown",
      "source": [
        "#Rake"
      ],
      "metadata": {
        "id": "bHnBSb4Ez_t7"
      }
    },
    {
      "cell_type": "code",
      "source": [
        "pip install multi_rake"
      ],
      "metadata": {
        "colab": {
          "base_uri": "https://localhost:8080/"
        },
        "id": "6SUyhf2Pz6Me",
        "outputId": "443e61c3-d3bb-4c51-a3ea-7eeddb9a8f0b"
      },
      "execution_count": 20,
      "outputs": [
        {
          "output_type": "stream",
          "name": "stdout",
          "text": [
            "Requirement already satisfied: multi_rake in /usr/local/lib/python3.10/dist-packages (0.0.2)\n",
            "Requirement already satisfied: numpy>=1.14.4 in /usr/local/lib/python3.10/dist-packages (from multi_rake) (1.25.2)\n",
            "Requirement already satisfied: pycld2>=0.41 in /usr/local/lib/python3.10/dist-packages (from multi_rake) (0.41)\n",
            "Requirement already satisfied: pyrsistent>=0.14.2 in /usr/local/lib/python3.10/dist-packages (from multi_rake) (0.20.0)\n",
            "Requirement already satisfied: regex>=2018.6.6 in /usr/local/lib/python3.10/dist-packages (from multi_rake) (2023.12.25)\n"
          ]
        }
      ]
    },
    {
      "cell_type": "code",
      "execution_count": 23,
      "metadata": {
        "colab": {
          "base_uri": "https://localhost:8080/"
        },
        "id": "qlBd_7LTzy4i",
        "outputId": "54075f39-5c9f-45c7-8901-71f21bf9a959"
      },
      "outputs": [
        {
          "output_type": "execute_result",
          "data": {
            "text/plain": [
              "[('bug-fixes regularly ensure', 9.0),\n",
              " ('executing large initiatives', 9.0),\n",
              " ('deliver secure software', 8.75),\n",
              " ('330+ million repositories', 8.5),\n",
              " ('ensure career growth', 8.5),\n",
              " ('product leadership guide', 8.333333333333334),\n",
              " ('build amazing things', 8.25),\n",
              " ('world builds software', 8.25),\n",
              " ('company build alignment', 8.25),\n",
              " ('shipping high-quality software', 8.25),\n",
              " ('client apps organization', 8.2),\n",
              " ('apps responsibilities responsibilities', 8.2),\n",
              " ('fastest growing products', 8.0),\n",
              " ('team ships products', 7.833333333333333),\n",
              " ('processes experience communicating', 7.8),\n",
              " ('server engineers located', 7.666666666666667),\n",
              " ('senior engineering manager', 7.533333333333333),\n",
              " ('provide regular feedback', 7.5),\n",
              " ('scale 2+ years', 7.5),\n",
              " ('github mobile squads', 7.1923076923076925)]"
            ]
          },
          "metadata": {},
          "execution_count": 23
        }
      ],
      "source": [
        "from multi_rake import Rake\n",
        "rake = Rake()\n",
        "keywords = rake.apply(full_text)\n",
        "\n",
        "keywords[:20]"
      ]
    },
    {
      "cell_type": "markdown",
      "source": [
        "#Rake-Nltk"
      ],
      "metadata": {
        "id": "UCo0cSz00F81"
      }
    },
    {
      "cell_type": "code",
      "source": [
        "pip install rake_nltk nltk"
      ],
      "metadata": {
        "colab": {
          "base_uri": "https://localhost:8080/"
        },
        "id": "c62brHSyQ86g",
        "outputId": "e674b96a-4b1e-4340-c5a7-9e67712bea03"
      },
      "execution_count": 20,
      "outputs": [
        {
          "output_type": "stream",
          "name": "stdout",
          "text": [
            "Requirement already satisfied: rake_nltk in /usr/local/lib/python3.10/dist-packages (1.0.6)\n",
            "Requirement already satisfied: nltk in /usr/local/lib/python3.10/dist-packages (3.8.1)\n",
            "Requirement already satisfied: click in /usr/local/lib/python3.10/dist-packages (from nltk) (8.1.7)\n",
            "Requirement already satisfied: joblib in /usr/local/lib/python3.10/dist-packages (from nltk) (1.3.2)\n",
            "Requirement already satisfied: regex>=2021.8.3 in /usr/local/lib/python3.10/dist-packages (from nltk) (2023.12.25)\n",
            "Requirement already satisfied: tqdm in /usr/local/lib/python3.10/dist-packages (from nltk) (4.66.2)\n"
          ]
        }
      ]
    },
    {
      "cell_type": "code",
      "source": [
        "import nltk\n",
        "nltk.download('stopwords')\n",
        "nltk.download('punkt')\n",
        "\n",
        "from rake_nltk import Rake\n",
        "rake_nltk_var = Rake()\n",
        "\n",
        "rake_nltk_var.extract_keywords_from_text(full_text)\n",
        "keyword_extracted = rake_nltk_var.get_ranked_phrases()\n",
        "print(*keyword_extracted, sep='\\n')"
      ],
      "metadata": {
        "id": "62Zxll48z9lo",
        "colab": {
          "base_uri": "https://localhost:8080/"
        },
        "outputId": "31797a66-e5f7-44f0-8cf7-f53d54151e3b"
      },
      "execution_count": 24,
      "outputs": [
        {
          "output_type": "stream",
          "name": "stderr",
          "text": [
            "[nltk_data] Downloading package stopwords to /root/nltk_data...\n",
            "[nltk_data]   Package stopwords is already up-to-date!\n",
            "[nltk_data] Downloading package punkt to /root/nltk_data...\n",
            "[nltk_data]   Unzipping tokenizers/punkt.zip.\n"
          ]
        },
        {
          "output_type": "stream",
          "name": "stdout",
          "text": [
            "['team toward building high quality software across multiple platforms qualifications required qualifications', 'build amazing things together across 330', 'github mobile squad located primarily', 'leading technical teams experience developing', 'debugging practices experience working asynchronously', 'server engineers located across', 'typical week would include', 'fostering good engineering practices', 'careers effectively communicate directions', 'experienced software engineering manager', 'engineering collaborators via github', 'united states overview github', 'teams preferred qualifications', 'quality software', 'deliver secure software', 'world builds software', 'company build alignment', 'github via graphql', 'regular basis help', 'powered developer platform', 'performance culture amongst', 'fortune 100 companies', 'fixes regularly ensure', 'executing large initiatives', 'team ships products', 'help build github', 'senior engineering manager', 'senior engineering manager', 'processes experience communicating', 'github mobile squads', 'provide regular feedback', 'ensure career growth', 'github mobile team', 'product leadership guide', 'client apps organization', 'apps responsibilities responsibilities', 'github cli teams', 'fastest growing products', 'team conducting 1', '100 million people', 'developers across', 'team members 1', 'distributed team passionate', 'qualifications', 'shipping software', 'united states', 'shipping high', 'mobile team', 'github mobile', 'team members', 'apps communicate', 'solving engineering', 'work asynchronously', 'relevant experience', 'experience designing', 'use github', 'github desktop', 'world collaborate', 'working alongside', 'progression working', 'partner teams', 'million repositories', 'get feedback', 'career talking', 'helps people', 'distributed worldwide', 'distributed group', 'ios experience', 'zoom planning', 'write faster', 'track record', 'strong sense', 'stakeholders create', 'rest apis', 'rails knowledge', 'product management', 'please apply', 'people management', 'partner closely', 'march 2020', 'level stakeholders', 'iterative fashion', 'high', 'high', 'global home', 'direct reports', 'complete ai', 'caring deeply', 'built natively', 'better code', '1 meetings', 'product problems', 'ios apps', 'including developers', 'scale 2', 'ownership meet', 'oversee one', 'either way', 'native android', 'build', 'engineering', 'developing', 'collaborative features', 'team', 'team', 'team', 'team', 'manager', 'experience', 'experience', 'github', 'github', 'github', 'github', 'working', 'teams', 'teams', 'apps', 'passionate', 'growing', 'engineers', 'engineers', '1', '1', 'management', 'developers', 'scale', 'problems', 'one', 'meet', 'ios', 'ios', 'features', 'collaborative', 'way', 'way', 'work', 'work', 'work', 'android', 'android', 'android', 'years', 'years', 'want', 'want', 'want', 'users', 'understand', 'time', 'testing', 'swift', 'strategy', 'stack', 'solve', 'solve', 'slack', 'ruby', 'role', 'role', 'roadmap', 'remote', 'remote', 'profiling', 'part', 'never', 'means', 'managers', 'looking', 'locations', 'life', 'learning', 'launched', 'kotlin', 'join', 'job', 'individuals', 'individuals', 'hear', 'handful', 'grow', 'germany', 'foster', 'folks', 'excellent', 'environment', 'empowered', 'easier', 'design', 'design', 'demonstrate', 'decisions', 'day', 'data', 'data', 'cultivate', 'craft', 'changing', 'changing', 'care', 'bug', 'berlin', 'advancing', '90', '6', '1s']\n"
          ]
        }
      ]
    },
    {
      "cell_type": "markdown",
      "source": [
        "#YAKE"
      ],
      "metadata": {
        "id": "B3cJ3IAH0RwD"
      }
    },
    {
      "cell_type": "code",
      "source": [
        "pip install git+https://github.com/LIAAD/yake"
      ],
      "metadata": {
        "id": "NugOYOvT0T3a",
        "colab": {
          "base_uri": "https://localhost:8080/"
        },
        "outputId": "7498cbb2-bb29-497a-c546-489985e3e07e"
      },
      "execution_count": 25,
      "outputs": [
        {
          "output_type": "stream",
          "name": "stdout",
          "text": [
            "\u001b[31mERROR: Operation cancelled by user\u001b[0m\u001b[31m\n",
            "\u001b[0m"
          ]
        }
      ]
    },
    {
      "cell_type": "code",
      "source": [
        "import yake\n",
        "kw_extractor = yake.KeywordExtractor(top=20, stopwords=None)\n",
        "keywords = kw_extractor.extract_keywords(full_text)\n",
        "\n",
        "for kw, v in keywords:\n",
        "  print(\"Keyphrase: \",kw, \": score\", v)"
      ],
      "metadata": {
        "id": "BrjSFcAd04PG",
        "colab": {
          "base_uri": "https://localhost:8080/"
        },
        "outputId": "c0fd8bf0-d974-4d16-cce7-85f245ea5950"
      },
      "execution_count": 26,
      "outputs": [
        {
          "output_type": "stream",
          "name": "stdout",
          "text": [
            "Keyphrase:  GitHub : score 0.024986640288352444\n",
            "Keyphrase:  GitHub Mobile : score 0.02745539118006948\n",
            "Keyphrase:  team : score 0.034159304630431826\n",
            "Keyphrase:  Senior Engineering Manager : score 0.050663071362609405\n",
            "Keyphrase:  Mobile : score 0.05280381974632941\n",
            "Keyphrase:  Engineering : score 0.053812718498675034\n",
            "Keyphrase:  GitHub Mobile team : score 0.05631244393531508\n",
            "Keyphrase:  United States Overview : score 0.056462108480701254\n",
            "Keyphrase:  Engineering Manager : score 0.058352926983135704\n",
            "Keyphrase:  Mobile team : score 0.06067923293099546\n",
            "Keyphrase:  experience : score 0.06277853679187917\n",
            "Keyphrase:  States Overview GitHub : score 0.06376752039192754\n",
            "Keyphrase:  United States : score 0.06508534272170717\n",
            "Keyphrase:  teams : score 0.06831860926086365\n",
            "Keyphrase:  Android : score 0.07047993991433067\n",
            "Keyphrase:  software : score 0.07372322229210873\n",
            "Keyphrase:  apps : score 0.08941702680833159\n",
            "Keyphrase:  build : score 0.09824360857937436\n",
            "Keyphrase:  Senior Engineering : score 0.09870106959048908\n",
            "Keyphrase:  Manager : score 0.09887382696864692\n"
          ]
        }
      ]
    },
    {
      "cell_type": "markdown",
      "source": [
        "#textrank"
      ],
      "metadata": {
        "id": "aZ3q6N2P1GDA"
      }
    },
    {
      "cell_type": "code",
      "source": [
        "pip install summa"
      ],
      "metadata": {
        "id": "M1BsMskT1IHa",
        "colab": {
          "base_uri": "https://localhost:8080/"
        },
        "outputId": "93b3a502-fbc4-4128-d2e9-d2998ba1e579"
      },
      "execution_count": 1,
      "outputs": [
        {
          "output_type": "stream",
          "name": "stdout",
          "text": [
            "Collecting summa\n",
            "  Downloading summa-1.2.0.tar.gz (54 kB)\n",
            "\u001b[?25l     \u001b[90m━━━━━━━━━━━━━━━━━━━━━━━━━━━━━━━━━━━━━━━━\u001b[0m \u001b[32m0.0/54.9 kB\u001b[0m \u001b[31m?\u001b[0m eta \u001b[36m-:--:--\u001b[0m\r\u001b[2K     \u001b[90m━━━━━━━━━━━━━━━━━━━━━━━━━━━━━━━━━━━━━━━━\u001b[0m \u001b[32m54.9/54.9 kB\u001b[0m \u001b[31m1.5 MB/s\u001b[0m eta \u001b[36m0:00:00\u001b[0m\n",
            "\u001b[?25h  Preparing metadata (setup.py) ... \u001b[?25l\u001b[?25hdone\n",
            "Requirement already satisfied: scipy>=0.19 in /usr/local/lib/python3.10/dist-packages (from summa) (1.11.4)\n",
            "Requirement already satisfied: numpy<1.28.0,>=1.21.6 in /usr/local/lib/python3.10/dist-packages (from scipy>=0.19->summa) (1.25.2)\n",
            "Building wheels for collected packages: summa\n",
            "  Building wheel for summa (setup.py) ... \u001b[?25l\u001b[?25hdone\n",
            "  Created wheel for summa: filename=summa-1.2.0-py3-none-any.whl size=54388 sha256=59a8371bb69c24322929b7037f2f67bc50611aa72b22ae6ff4cc39edace159db\n",
            "  Stored in directory: /root/.cache/pip/wheels/4a/ca/c5/4958614cfba88ed6ceb7cb5a849f9f89f9ac49971616bc919f\n",
            "Successfully built summa\n",
            "Installing collected packages: summa\n",
            "Successfully installed summa-1.2.0\n"
          ]
        }
      ]
    },
    {
      "cell_type": "code",
      "source": [
        "from summa import keywords\n",
        "\n",
        "\n",
        "TR_keywords = keywords.keywords(full_text, scores=True)\n",
        "TR_keywords[0:20]"
      ],
      "metadata": {
        "id": "GyGhdD6y1LKe",
        "colab": {
          "base_uri": "https://localhost:8080/"
        },
        "outputId": "4445857f-f883-44da-96f6-ebc08ee2ca24"
      },
      "execution_count": 28,
      "outputs": [
        {
          "output_type": "execute_result",
          "data": {
            "text/plain": [
              "[('teams', 0.2941673645412747),\n",
              " ('team', 0.2941673645412747),\n",
              " ('engineering', 0.25207990694948507),\n",
              " ('engineers', 0.25207990694948507),\n",
              " ('github', 0.2284752144835414),\n",
              " ('build', 0.22402474698538968),\n",
              " ('builds', 0.22402474698538968),\n",
              " ('building', 0.22402474698538968),\n",
              " ('experience', 0.21836882095876603),\n",
              " ('work', 0.16200442134552903),\n",
              " ('working', 0.16200442134552903),\n",
              " ('products', 0.16036086275518255),\n",
              " ('regular', 0.1597156836100976),\n",
              " ('regularly', 0.1597156836100976),\n",
              " ('software', 0.1523889477265797),\n",
              " ('apps', 0.14827687010795787),\n",
              " ('developers', 0.14661168418707693),\n",
              " ('developing', 0.14661168418707693),\n",
              " ('distributed', 0.13550220032203253),\n",
              " ('high', 0.1313989508972217)]"
            ]
          },
          "metadata": {},
          "execution_count": 28
        }
      ]
    },
    {
      "cell_type": "markdown",
      "source": [
        "#Keybert"
      ],
      "metadata": {
        "id": "gdG4k2FK2ydl"
      }
    },
    {
      "cell_type": "code",
      "source": [
        "pip install keybert nltk"
      ],
      "metadata": {
        "colab": {
          "base_uri": "https://localhost:8080/"
        },
        "id": "tDyRbYJM2x3c",
        "outputId": "b48b3166-ee16-442c-d7b9-03ac1ecc983b"
      },
      "execution_count": 51,
      "outputs": [
        {
          "output_type": "stream",
          "name": "stdout",
          "text": [
            "Requirement already satisfied: keybert in /usr/local/lib/python3.10/dist-packages (0.8.4)\n",
            "Requirement already satisfied: nltk in /usr/local/lib/python3.10/dist-packages (3.8.1)\n",
            "Requirement already satisfied: sentence-transformers>=0.3.8 in /usr/local/lib/python3.10/dist-packages (from keybert) (2.4.0)\n",
            "Requirement already satisfied: scikit-learn>=0.22.2 in /usr/local/lib/python3.10/dist-packages (from keybert) (1.2.2)\n",
            "Requirement already satisfied: numpy>=1.18.5 in /usr/local/lib/python3.10/dist-packages (from keybert) (1.25.2)\n",
            "Requirement already satisfied: rich>=10.4.0 in /usr/local/lib/python3.10/dist-packages (from keybert) (13.7.0)\n",
            "Requirement already satisfied: click in /usr/local/lib/python3.10/dist-packages (from nltk) (8.1.7)\n",
            "Requirement already satisfied: joblib in /usr/local/lib/python3.10/dist-packages (from nltk) (1.3.2)\n",
            "Requirement already satisfied: regex>=2021.8.3 in /usr/local/lib/python3.10/dist-packages (from nltk) (2023.12.25)\n",
            "Requirement already satisfied: tqdm in /usr/local/lib/python3.10/dist-packages (from nltk) (4.66.2)\n",
            "Requirement already satisfied: markdown-it-py>=2.2.0 in /usr/local/lib/python3.10/dist-packages (from rich>=10.4.0->keybert) (3.0.0)\n",
            "Requirement already satisfied: pygments<3.0.0,>=2.13.0 in /usr/local/lib/python3.10/dist-packages (from rich>=10.4.0->keybert) (2.16.1)\n",
            "Requirement already satisfied: scipy>=1.3.2 in /usr/local/lib/python3.10/dist-packages (from scikit-learn>=0.22.2->keybert) (1.11.4)\n",
            "Requirement already satisfied: threadpoolctl>=2.0.0 in /usr/local/lib/python3.10/dist-packages (from scikit-learn>=0.22.2->keybert) (3.3.0)\n",
            "Requirement already satisfied: transformers<5.0.0,>=4.32.0 in /usr/local/lib/python3.10/dist-packages (from sentence-transformers>=0.3.8->keybert) (4.37.2)\n",
            "Requirement already satisfied: torch>=1.11.0 in /usr/local/lib/python3.10/dist-packages (from sentence-transformers>=0.3.8->keybert) (2.1.0+cu121)\n",
            "Requirement already satisfied: huggingface-hub>=0.15.1 in /usr/local/lib/python3.10/dist-packages (from sentence-transformers>=0.3.8->keybert) (0.20.3)\n",
            "Requirement already satisfied: Pillow in /usr/local/lib/python3.10/dist-packages (from sentence-transformers>=0.3.8->keybert) (9.4.0)\n",
            "Requirement already satisfied: filelock in /usr/local/lib/python3.10/dist-packages (from huggingface-hub>=0.15.1->sentence-transformers>=0.3.8->keybert) (3.13.1)\n",
            "Requirement already satisfied: fsspec>=2023.5.0 in /usr/local/lib/python3.10/dist-packages (from huggingface-hub>=0.15.1->sentence-transformers>=0.3.8->keybert) (2023.6.0)\n",
            "Requirement already satisfied: requests in /usr/local/lib/python3.10/dist-packages (from huggingface-hub>=0.15.1->sentence-transformers>=0.3.8->keybert) (2.31.0)\n",
            "Requirement already satisfied: pyyaml>=5.1 in /usr/local/lib/python3.10/dist-packages (from huggingface-hub>=0.15.1->sentence-transformers>=0.3.8->keybert) (6.0.1)\n",
            "Requirement already satisfied: typing-extensions>=3.7.4.3 in /usr/local/lib/python3.10/dist-packages (from huggingface-hub>=0.15.1->sentence-transformers>=0.3.8->keybert) (4.9.0)\n",
            "Requirement already satisfied: packaging>=20.9 in /usr/local/lib/python3.10/dist-packages (from huggingface-hub>=0.15.1->sentence-transformers>=0.3.8->keybert) (23.2)\n",
            "Requirement already satisfied: mdurl~=0.1 in /usr/local/lib/python3.10/dist-packages (from markdown-it-py>=2.2.0->rich>=10.4.0->keybert) (0.1.2)\n",
            "Requirement already satisfied: sympy in /usr/local/lib/python3.10/dist-packages (from torch>=1.11.0->sentence-transformers>=0.3.8->keybert) (1.12)\n",
            "Requirement already satisfied: networkx in /usr/local/lib/python3.10/dist-packages (from torch>=1.11.0->sentence-transformers>=0.3.8->keybert) (3.2.1)\n",
            "Requirement already satisfied: jinja2 in /usr/local/lib/python3.10/dist-packages (from torch>=1.11.0->sentence-transformers>=0.3.8->keybert) (3.1.3)\n",
            "Requirement already satisfied: triton==2.1.0 in /usr/local/lib/python3.10/dist-packages (from torch>=1.11.0->sentence-transformers>=0.3.8->keybert) (2.1.0)\n",
            "Requirement already satisfied: tokenizers<0.19,>=0.14 in /usr/local/lib/python3.10/dist-packages (from transformers<5.0.0,>=4.32.0->sentence-transformers>=0.3.8->keybert) (0.15.2)\n",
            "Requirement already satisfied: safetensors>=0.4.1 in /usr/local/lib/python3.10/dist-packages (from transformers<5.0.0,>=4.32.0->sentence-transformers>=0.3.8->keybert) (0.4.2)\n",
            "Requirement already satisfied: MarkupSafe>=2.0 in /usr/local/lib/python3.10/dist-packages (from jinja2->torch>=1.11.0->sentence-transformers>=0.3.8->keybert) (2.1.5)\n",
            "Requirement already satisfied: charset-normalizer<4,>=2 in /usr/local/lib/python3.10/dist-packages (from requests->huggingface-hub>=0.15.1->sentence-transformers>=0.3.8->keybert) (3.3.2)\n",
            "Requirement already satisfied: idna<4,>=2.5 in /usr/local/lib/python3.10/dist-packages (from requests->huggingface-hub>=0.15.1->sentence-transformers>=0.3.8->keybert) (3.6)\n",
            "Requirement already satisfied: urllib3<3,>=1.21.1 in /usr/local/lib/python3.10/dist-packages (from requests->huggingface-hub>=0.15.1->sentence-transformers>=0.3.8->keybert) (2.0.7)\n",
            "Requirement already satisfied: certifi>=2017.4.17 in /usr/local/lib/python3.10/dist-packages (from requests->huggingface-hub>=0.15.1->sentence-transformers>=0.3.8->keybert) (2024.2.2)\n",
            "Requirement already satisfied: mpmath>=0.19 in /usr/local/lib/python3.10/dist-packages (from sympy->torch>=1.11.0->sentence-transformers>=0.3.8->keybert) (1.3.0)\n"
          ]
        }
      ]
    },
    {
      "cell_type": "code",
      "source": [
        "from keybert import KeyBERT\n",
        "import nltk\n",
        "nltk.download('stopwords')"
      ],
      "metadata": {
        "id": "UjFUP5vu20ID",
        "colab": {
          "base_uri": "https://localhost:8080/"
        },
        "outputId": "d8ced90f-56ff-46ca-a8ea-1967a9e2affc"
      },
      "execution_count": 56,
      "outputs": [
        {
          "output_type": "stream",
          "name": "stderr",
          "text": [
            "[nltk_data] Downloading package stopwords to /root/nltk_data...\n",
            "[nltk_data]   Unzipping corpora/stopwords.zip.\n"
          ]
        },
        {
          "output_type": "execute_result",
          "data": {
            "text/plain": [
              "True"
            ]
          },
          "metadata": {},
          "execution_count": 56
        }
      ]
    },
    {
      "cell_type": "code",
      "source": [
        "#You can select any model from sentence-transformers [here](https://www.sbert.net/docs/pretrained_models.html) and pass it through KeyBERT with model:"
      ],
      "metadata": {
        "id": "dAo8XZjf23-E"
      },
      "execution_count": 57,
      "outputs": []
    },
    {
      "cell_type": "markdown",
      "source": [
        "NOTE: For a full overview of all possible transformer models see sentence-transformer. I would advise either \"all-MiniLM-L6-v2\" for English documents or \"paraphrase-multilingual-MiniLM-L12-v2\" for multi-lingual documents or any other language.\n",
        "\n",
        "\n"
      ],
      "metadata": {
        "id": "T5EbsplV2-LS"
      }
    },
    {
      "cell_type": "code",
      "source": [
        "kw_model = KeyBERT(model='all-mpnet-base-v2')\n",
        "#all-mpnet-base-v2\n",
        "#all-MiniLM-L6-v2"
      ],
      "metadata": {
        "id": "WIhz2ASv3B9g"
      },
      "execution_count": 54,
      "outputs": []
    },
    {
      "cell_type": "code",
      "source": [
        "# List of specific words to ignore\n",
        "custom_ignore_words = [\"github\"]\n",
        "\n",
        "# Get the predefined stop words for the language (e.g., English)\n",
        "nltk_stop_words = stopwords.words('english')\n",
        "\n",
        "# Combine the predefined stop words with the custom words\n",
        "combined_stop_words = nltk_stop_words + custom_ignore_words\n",
        "\n",
        "keywords = kw_model.extract_keywords(full_text,\n",
        "                                     keyphrase_ngram_range=(1, 3),\n",
        "                                     stop_words=combined_stop_words,\n",
        "                                     use_mmr=True,\n",
        "                                     diversity=0.7,\n",
        "                                     top_n=20)\n",
        "print(*keywords, sep='\\n')\n",
        "\n"
      ],
      "metadata": {
        "id": "kyXXXf0v3FkY",
        "colab": {
          "base_uri": "https://localhost:8080/"
        },
        "outputId": "c48d98fb-6c47-41b7-d656-46304293a6a3"
      },
      "execution_count": 63,
      "outputs": [
        {
          "output_type": "stream",
          "name": "stdout",
          "text": [
            "('senior engineering manager', 0.5884)\n",
            "('ai powered developer', 0.3648)\n",
            "('job global home', 0.3228)\n",
            "('million repositories', 0.3135)\n",
            "('please apply', 0.2674)\n",
            "('ruby rails knowledge', 0.2426)\n",
            "('teams write faster', 0.2333)\n",
            "('debugging practices experience', 0.2159)\n",
            "('multiple platforms qualifications', 0.1827)\n",
            "('apis day life', 0.1801)\n",
            "('partner closely', 0.1586)\n",
            "('kotlin android swift', 0.1572)\n",
            "('slack zoom planning', 0.1509)\n",
            "('germany', 0.1283)\n",
            "('feedback ensure', 0.1266)\n",
            "('craft shipping software', 0.0919)\n",
            "('growth progression', 0.074)\n",
            "('communicate via graphql', 0.0691)\n",
            "('way', 0.0591)\n",
            "('solve solving', 0.0486)\n"
          ]
        }
      ]
    },
    {
      "cell_type": "code",
      "source": [],
      "metadata": {
        "id": "_lq_sN3JKmsy"
      },
      "execution_count": 38,
      "outputs": []
    }
  ]
}